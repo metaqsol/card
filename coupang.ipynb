{
 "cells": [
  {
   "cell_type": "code",
   "execution_count": 1,
   "metadata": {},
   "outputs": [],
   "source": [
    "#URL\n",
    "#NOTEBOOK\n",
    "TARGET_URL=\"https://www.coupang.com/np/categories/497135?listSize=60&brand=17031%2C42308%2C257%2C263%2C259%2C17000%2C6619%2C258&offerCondition=&filterType=rocket%2C&isPriceRange=false&minPrice=&maxPrice=&page=1&channel=user&fromComponent=N&selectedPlpKeepFilter=&sorter=bestAsc&filter=&component=497035&rating=0&rocketAll=true\"\n",
    "\n",
    "#ALL\n",
    "TARGET_URL=\"https://www.coupang.com/np/categories/497135?listSize=60&brand=&offerCondition=&filterType=rocket%2C&isPriceRange=false&minPrice=&maxPrice=&page=1&channel=user&fromComponent=N&selectedPlpKeepFilter=&sorter=bestAsc&filter=&component=497035&rating=0&rocketAll=true\""
   ]
  },
  {
   "cell_type": "code",
   "execution_count": 2,
   "metadata": {},
   "outputs": [],
   "source": [
    "# -*- encoding:utf8 -*-\n",
    "from curses.ascii import isdigit\n",
    "from select import select\n",
    "from turtle import isvisible\n",
    "import requests\n",
    "import random\n",
    "from configparser import ConfigParser\n",
    "from selenium import webdriver\n",
    "from bs4 import BeautifulSoup\n",
    "import sys\n",
    "import time\n",
    "from datetime import datetime\n",
    "from selenium.webdriver.common.by import By\n",
    "from selenium.webdriver.common.keys import Keys\n",
    "from selenium.webdriver.support import expected_conditions as EC\n",
    "from selenium.webdriver.support.ui import WebDriverWait\n",
    "from selenium.webdriver.chrome.service import Service\n",
    "from webdriver_manager.chrome import ChromeDriverManager\n",
    "import math\n",
    "from selenium.webdriver.support.ui import Select\n",
    "import logging\n",
    "import os"
   ]
  },
  {
   "cell_type": "code",
   "execution_count": 3,
   "metadata": {},
   "outputs": [],
   "source": [
    "isFileExist = False\n",
    "if os.path.isfile(\"coupang.xlsx\"):\n",
    "    isFileExist = True\n",
    "isFileExist = False\n"
   ]
  },
  {
   "cell_type": "code",
   "execution_count": 4,
   "metadata": {},
   "outputs": [],
   "source": [
    "def scroll_to_bottom(driver):\n",
    "\n",
    "    old_position = 0\n",
    "    new_position = None\n",
    "\n",
    "    while new_position != old_position:\n",
    "        # Get old scroll position\n",
    "        old_position = driver.execute_script(\n",
    "                (\"return (window.pageYOffset !== undefined) ?\"\n",
    "                 \" window.pageYOffset : (document.documentElement ||\"\n",
    "                 \" document.body.parentNode || document.body);\"))\n",
    "        # Sleep and Scroll\n",
    "        time.sleep(3)\n",
    "        driver.execute_script((\n",
    "                \"var scrollingElement = (document.scrollingElement ||\"\n",
    "                \" document.body);scrollingElement.scrollTop =\"\n",
    "                \" scrollingElement.scrollHeight;\"))\n",
    "        # Get new position\n",
    "        new_position = driver.execute_script(\n",
    "                (\"return (window.pageYOffset !== undefined) ?\"\n",
    "                 \" window.pageYOffset : (document.documentElement ||\"\n",
    "                 \" document.body.parentNode || document.body);\"))"
   ]
  },
  {
   "cell_type": "code",
   "execution_count": 5,
   "metadata": {},
   "outputs": [
    {
     "name": "stderr",
     "output_type": "stream",
     "text": [
      "[WDM] - Downloading: 100%|██████████| 6.80M/6.80M [00:00<00:00, 27.1MB/s]\n"
     ]
    }
   ],
   "source": [
    "if not isFileExist:\n",
    "    s = Service(ChromeDriverManager().install())\n",
    "    # chrome_options = webdriver.ChromeOptions()\n",
    "    # #chrome_options.add_argument(\"--incognito\")\n",
    "    # chrome_options.add_argument(\"--disable-blink-features=AutomationControlled\") \n",
    "    # chrome_options.add_experimental_option(\"excludeSwitches\", [\"enable-automation\"]) \n",
    "    # chrome_options.add_experimental_option(\"useAutomationExtension\", False) \n",
    "   \n",
    "    # chrome_options.add_argument('--no-sandbox')\n",
    "    # chrome_options.add_argument('--headless')\n",
    "    # chrome_options.add_argument(\"user-data-dir=C:\\\\Users\\\\flywi\\\\AppData\\\\Local\\\\Google\\\\Chrome\\\\User Data\") \n",
    "\n",
    "\n",
    "    # driver = webdriver.Chrome(service=s,options=chrome_options)\n",
    "    \n",
    "    chrome_options = webdriver.ChromeOptions()\n",
    "    # .ChromeOptions()\n",
    "    #chrome_options.add_argument(\"--incognito\")\n",
    "    chrome_options.add_argument(\"--disable-blink-features=AutomationControlled\") \n",
    "    chrome_options.add_experimental_option(\"excludeSwitches\", [\"enable-automation\"]) \n",
    "    chrome_options.add_experimental_option(\"useAutomationExtension\", False) \n",
    "    chrome_options.add_argument(\"--single-process\")\n",
    "    # chrome_options.add_argument('--no-sandbox')\n",
    "    chrome_options.add_argument(\"user-data-dir=C:\\\\Users\\\\flywi\\\\AppData\\\\Local\\\\Google\\\\Chrome\\\\User Data\\\\Profile 1\") \n",
    "    # chrome_options.add_argument(\"--disable-dev-shm-usage\")\n",
    "    #chrome_options.add_argument('--headless')\n",
    "    # chrome_options.add_argument(\"--remote-debugging-port=9222\")\n",
    "\n",
    "    # chrome_options.add_experimental_option(\"detach\", True)\n",
    "    driver = webdriver.Chrome(service=s,options=chrome_options)\n",
    "    driver.set_window_position(0,0)\n",
    "    driver.get(TARGET_URL)\n",
    "    scroll_to_bottom(driver)\n"
   ]
  },
  {
   "cell_type": "code",
   "execution_count": 6,
   "metadata": {},
   "outputs": [],
   "source": [
    "SLEEP_TIME=5"
   ]
  },
  {
   "cell_type": "code",
   "execution_count": 13,
   "metadata": {},
   "outputs": [],
   "source": [
    "from slack_sdk import WebClient\n",
    "from slack_sdk.errors import SlackApiError\n",
    "\n",
    "from Misc import *\n"
   ]
  },
  {
   "cell_type": "code",
   "execution_count": 14,
   "metadata": {},
   "outputs": [],
   "source": [
    "myconf = config_init()\n"
   ]
  },
  {
   "cell_type": "code",
   "execution_count": 7,
   "metadata": {},
   "outputs": [
    {
     "name": "stdout",
     "output_type": "stream",
     "text": [
      "레노버 2021 ThinkPad L15, 블랙, 라이젠5 Pro 4세대, 256GB, 8GB, Free DOS, 20X7S00900 / 749000 / 425510 / 425510\n",
      "마이크로소프트 2022 Surface Laptop 4 15, 플래티넘, 라이젠7, 256GB, 8GB, WIN11 Home, 5UI-00047 / 1690000 / 1267500 / 1001320\n",
      "플립북 2022 14 Wireless, 0GB, Free DOS, FLIPBOOK14W, 실버, 0GB / 449000 / 248000 / 199200\n",
      "마이크로소프트 2022 서피스 프로9 노트북 13 + 키보드 + 슬림펜 2, 512GB, QIX-00032/8X6-00017, 코어i7, Graphite(노트북), Black(키보드), WIN11 Home, 16GB / 3914100 / 2681000 / 2236490\n",
      "델 2022 게이밍 노트북 G15, 옵시디언 블랙, DG5521SE-WH04KR, 코어i7 12세대, 1024GB, 16GB, WIN11 Home / 2499000 / 1949000 / 1553260\n",
      "삼성전자 2020 갤럭시북 이온 15.6, 아우라 실버, 코어i5 10세대, 256GB, 16GB, Linux, NT950XCR-G58A / 1649000 / 1561670 / 968230\n",
      "에이수스 2022 Zenbook 14X OLED SPACE EDITION, 제로 G 티타니늄, 코어i7, 512GB, 16GB, WIN11 Home, UX5401ZAS-KN050W / 1899000 / 1749000 / 1161060\n",
      "에이서 2020 Predator Helios300 15.6, 블랙, 코어i7 10세대, 512GB, 16GB, Linux, PH315-53-743C / 1849000 / 1422280 / 881100\n",
      "에이수스 2022 젠북 14X, ZENBOOK 14X UM5401RA-KN063W, 제이드 블랙, 512GB, 라이젠9, 16GB, WIN11 Home / 1798970 / 1268990 / 1015193\n"
     ]
    },
    {
     "ename": "KeyboardInterrupt",
     "evalue": "",
     "output_type": "error",
     "traceback": [
      "\u001b[1;31m---------------------------------------------------------------------------\u001b[0m",
      "\u001b[1;31mKeyboardInterrupt\u001b[0m                         Traceback (most recent call last)",
      "Cell \u001b[1;32mIn[7], line 18\u001b[0m\n\u001b[0;32m     16\u001b[0m \u001b[39mtry\u001b[39;00m:  \n\u001b[0;32m     17\u001b[0m     driver\u001b[39m.\u001b[39mfind_element(By\u001b[39m.\u001b[39mXPATH, \u001b[39mf\u001b[39m\u001b[39m'\u001b[39m\u001b[39m/html/body/div[3]/section/form/div/div/div[1]/div/div[4]/div/a[\u001b[39m\u001b[39m{\u001b[39;00mi\u001b[39m}\u001b[39;00m\u001b[39m]\u001b[39m\u001b[39m'\u001b[39m)\u001b[39m.\u001b[39mclick()\n\u001b[1;32m---> 18\u001b[0m     scroll_to_bottom(driver)\n\u001b[0;32m     20\u001b[0m \u001b[39mexcept\u001b[39;00m \u001b[39mException\u001b[39;00m \u001b[39mas\u001b[39;00m e:\n\u001b[0;32m     21\u001b[0m     \u001b[39mtry\u001b[39;00m:\n",
      "Cell \u001b[1;32mIn[4], line 13\u001b[0m, in \u001b[0;36mscroll_to_bottom\u001b[1;34m(driver)\u001b[0m\n\u001b[0;32m      8\u001b[0m old_position \u001b[39m=\u001b[39m driver\u001b[39m.\u001b[39mexecute_script(\n\u001b[0;32m      9\u001b[0m         (\u001b[39m\"\u001b[39m\u001b[39mreturn (window.pageYOffset !== undefined) ?\u001b[39m\u001b[39m\"\u001b[39m\n\u001b[0;32m     10\u001b[0m          \u001b[39m\"\u001b[39m\u001b[39m window.pageYOffset : (document.documentElement ||\u001b[39m\u001b[39m\"\u001b[39m\n\u001b[0;32m     11\u001b[0m          \u001b[39m\"\u001b[39m\u001b[39m document.body.parentNode || document.body);\u001b[39m\u001b[39m\"\u001b[39m))\n\u001b[0;32m     12\u001b[0m \u001b[39m# Sleep and Scroll\u001b[39;00m\n\u001b[1;32m---> 13\u001b[0m time\u001b[39m.\u001b[39;49msleep(\u001b[39m3\u001b[39;49m)\n\u001b[0;32m     14\u001b[0m driver\u001b[39m.\u001b[39mexecute_script((\n\u001b[0;32m     15\u001b[0m         \u001b[39m\"\u001b[39m\u001b[39mvar scrollingElement = (document.scrollingElement ||\u001b[39m\u001b[39m\"\u001b[39m\n\u001b[0;32m     16\u001b[0m         \u001b[39m\"\u001b[39m\u001b[39m document.body);scrollingElement.scrollTop =\u001b[39m\u001b[39m\"\u001b[39m\n\u001b[0;32m     17\u001b[0m         \u001b[39m\"\u001b[39m\u001b[39m scrollingElement.scrollHeight;\u001b[39m\u001b[39m\"\u001b[39m))\n\u001b[0;32m     18\u001b[0m \u001b[39m# Get new position\u001b[39;00m\n",
      "\u001b[1;31mKeyboardInterrupt\u001b[0m: "
     ]
    }
   ],
   "source": [
    "isEnd=False\n",
    "import csv\n",
    "import openpyxl\n",
    "import os\n",
    "from re import sub\n",
    "from decimal import Decimal\n",
    "mydata = []\n",
    "if not isFileExist:\n",
    "    wb = openpyxl.Workbook()\n",
    "    ws = wb.active\n",
    "    ws.append(['제목','내용'])\n",
    "    while not isEnd:\n",
    "        for i in range(2,13):\n",
    "            time.sleep(SLEEP_TIME)\n",
    "            # print(i)\n",
    "            try:  \n",
    "                driver.find_element(By.XPATH, f'/html/body/div[3]/section/form/div/div/div[1]/div/div[4]/div/a[{i}]').click()\n",
    "                scroll_to_bottom(driver)\n",
    "\n",
    "            except Exception as e:\n",
    "                try:\n",
    "                    driver.find_element(By.XPATH, f'/html/body/div[3]/section/form/div/div/div[1]/div/div[4]/div/a[1]').click()\n",
    "                    scroll_to_bottom(driver)\n",
    "                    driver.find_element(By.XPATH, f'/html/body/div[3]/section/form/div/div/div[1]/div/div[4]/div/a[1]]').click()\n",
    "                    scroll_to_bottom(driver)\n",
    "                    driver.find_element(By.XPATH, f'/html/body/div[3]/section/form/div/div/div[1]/div/div[4]/div/a[1]').click()\n",
    "                    scroll_to_bottom(driver)\n",
    "                    \n",
    "                except:\n",
    "                    break\n",
    "                    \n",
    "\n",
    "                \n",
    "#               isEnd = True\n",
    "                # break\n",
    "##\\36 148872544 > a > dl > dd > div.name\n",
    "# //*[@id=\"6148872544\"]/a/dl/dd/div[2]\n",
    "# /html/body/div[3]/section/form/div/div/div[1]/div/ul/li[1]/a/dl/dd/div[2]\n",
    "# /html/body/div[3]/section/form/div/div/div[1]/div/ul/li[2]/a/dl/dd/div[2]\n",
    "# /html/body/div[3]/section/form/div/div/div[1]/div/ul/li[1]/a/dl/dd/div[2]\n",
    "            for review in  driver.find_elements(By.XPATH,'/html/body/div[3]/section/form/div/div/div[1]/div/ul/li'):\n",
    "                name=\"\"\n",
    "                price1=\"\"\n",
    "                price2=\"\"\n",
    "                lowprice=\"\"\n",
    "                try:\n",
    "                    name = review.find_element(By.XPATH,'a/dl/dd/div[2]').text\n",
    "                except:\n",
    "                    pass\n",
    "\n",
    "                try:\n",
    "                    price1 = review.find_element(By.XPATH,'a/dl/dd/div[3]/div[1]/div[1]/span/del').text\n",
    "                    price1= Decimal(sub(r'[^\\d.]', '', price1))\n",
    "                except Exception as e:\n",
    "                    pass\n",
    "                try:\n",
    "                    price2 = review.find_element(By.XPATH,'a/dl/dd/div[3]/div[1]/div[1]/em/strong').text\n",
    "                    price2= Decimal(sub(r'[^\\d.]', '', price2))\n",
    "\n",
    "                except:\n",
    "                    pass\n",
    "                try:\n",
    "                    lowprice = review.find_element(By.XPATH,'a/dl/dd/div[3]/div[2]/strong[2]').text\n",
    "                    lowprice= Decimal(sub(r'[^\\d.]', '', lowprice))\n",
    "                except:\n",
    "                    pass\n",
    "\n",
    "                #/html/body/div[3]/section/form/div/div/div[1]/div/ul/li[1]/a/dl/dd/div[2]\n",
    "                if price1!=\"\" and price2!=\"\" and lowprice!=\"\":         \n",
    "                    if( int(price1)/int(lowprice)>1.6):       \n",
    "                        found_item = f'{name} / {price1} / {price2} / {lowprice}'\n",
    "                        if found_item not in mydata:\n",
    "                            mydata.append(found_item)\n",
    "                            print(found_item)\n",
    "                            send_slack_text(slack_token=str(myconf['Slack_Msg']['TOKEN']).strip()\n",
    "            , channel = myconf['Slack_Msg']['CHANNEL']\n",
    "            , text=found_item)\n",
    "                           #review.find_element(By.XPATH,'a/dl/dd/div[2]').click()\n",
    "                        #isEnd = True\n",
    "                        #break\n",
    "            if isEnd==True:\n",
    "                break\n",
    "            #print(\"PAGE DONE\")     \n",
    "                   \n",
    "    wb.save('coupang.xlsx')"
   ]
  },
  {
   "cell_type": "code",
   "execution_count": null,
   "metadata": {},
   "outputs": [],
   "source": []
  }
 ],
 "metadata": {
  "kernelspec": {
   "display_name": "python3_9",
   "language": "python",
   "name": "python3"
  },
  "language_info": {
   "codemirror_mode": {
    "name": "ipython",
    "version": 3
   },
   "file_extension": ".py",
   "mimetype": "text/x-python",
   "name": "python",
   "nbconvert_exporter": "python",
   "pygments_lexer": "ipython3",
   "version": "3.9.16"
  },
  "orig_nbformat": 4
 },
 "nbformat": 4,
 "nbformat_minor": 2
}
